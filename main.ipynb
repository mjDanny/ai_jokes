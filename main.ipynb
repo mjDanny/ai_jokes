{
  "nbformat": 4,
  "nbformat_minor": 0,
  "metadata": {
    "colab": {
      "provenance": [],
      "gpuType": "T4"
    },
    "kernelspec": {
      "name": "python3",
      "display_name": "Python 3"
    },
    "language_info": {
      "name": "python"
    },
    "accelerator": "GPU"
  },
  "cells": [
    {
      "cell_type": "code",
      "source": [
        "# Установка необходимых библиотек\n",
        "!pip install llama-cpp-python fire\n",
        "\n",
        "# Загрузка модели\n",
        "!wget https://huggingface.co/IlyaGusev/saiga_mistral_7b_gguf/resolve/main/model-q4_K.gguf\n",
        "\n",
        "# Загрузка скрипта взаимодействия\n",
        "!wget https://raw.githubusercontent.com/IlyaGusev/rulm/master/self_instruct/src/interact_mistral_llamacpp.py"
      ],
      "metadata": {
        "id": "E0BJ26Bmxw4T"
      },
      "execution_count": null,
      "outputs": []
    },
    {
      "cell_type": "code",
      "source": [
        "\n",
        "# Импортируем необходимые библиотеки\n",
        "import subprocess\n",
        "\n",
        "def generate_jokes(model_path, num_jokes=3):\n",
        "    \"\"\"\n",
        "    model_path: путь к модели\n",
        "    num_jokes: количество шуток для генерации\n",
        "    \"\"\"\n",
        "    jokes = []\n",
        "    for _ in range(num_jokes):\n",
        "        # Запускаем скрипт взаимодействия с моделью\n",
        "        result = subprocess.run(\n",
        "            ['python3', 'interact_mistral_llamacpp.py', model_path],\n",
        "            input=\"Расскажи шутку\\n\",\n",
        "            text=True,\n",
        "            capture_output=True\n",
        "        )\n",
        "        # Сохраняем сгенерированную шутку\n",
        "        jokes.append(result.stdout.strip())\n",
        "    return jokes\n",
        "\n",
        "# Задаем путь к модели\n",
        "model_path = \"model-q4_K.gguf\"\n",
        "\n",
        "# Генерируем 3 шутки\n",
        "jokes = generate_jokes(model_path)\n",
        "\n",
        "# Выводим сгенерированные шутки\n",
        "for idx, joke in enumerate(jokes, 1):\n",
        "    print(f\"Шутка {idx}: {joke}\")\n"
      ],
      "metadata": {
        "colab": {
          "base_uri": "https://localhost:8080/"
        },
        "id": "D_PHl9RMuiyM",
        "outputId": "8d7e9668-9f2b-4847-8ae3-ae5c036f6ce2"
      },
      "execution_count": null,
      "outputs": [
        {
          "output_type": "stream",
          "name": "stdout",
          "text": [
            "Collecting llama-cpp-python\n",
            "  Downloading llama_cpp_python-0.2.84.tar.gz (49.3 MB)\n",
            "\u001b[2K     \u001b[90m━━━━━━━━━━━━━━━━━━━━━━━━━━━━━━━━━━━━━━━━\u001b[0m \u001b[32m49.3/49.3 MB\u001b[0m \u001b[31m17.7 MB/s\u001b[0m eta \u001b[36m0:00:00\u001b[0m\n",
            "\u001b[?25h  Installing build dependencies ... \u001b[?25l\u001b[?25hdone\n",
            "  Getting requirements to build wheel ... \u001b[?25l\u001b[?25hdone\n",
            "  Installing backend dependencies ... \u001b[?25l\u001b[?25hdone\n",
            "  Preparing metadata (pyproject.toml) ... \u001b[?25l\u001b[?25hdone\n",
            "Collecting fire\n",
            "  Downloading fire-0.6.0.tar.gz (88 kB)\n",
            "\u001b[2K     \u001b[90m━━━━━━━━━━━━━━━━━━━━━━━━━━━━━━━━━━━━━━━━\u001b[0m \u001b[32m88.4/88.4 kB\u001b[0m \u001b[31m9.7 MB/s\u001b[0m eta \u001b[36m0:00:00\u001b[0m\n",
            "\u001b[?25h  Preparing metadata (setup.py) ... \u001b[?25l\u001b[?25hdone\n",
            "Requirement already satisfied: typing-extensions>=4.5.0 in /usr/local/lib/python3.10/dist-packages (from llama-cpp-python) (4.12.2)\n",
            "Requirement already satisfied: numpy>=1.20.0 in /usr/local/lib/python3.10/dist-packages (from llama-cpp-python) (1.25.2)\n",
            "Collecting diskcache>=5.6.1 (from llama-cpp-python)\n",
            "  Downloading diskcache-5.6.3-py3-none-any.whl.metadata (20 kB)\n",
            "Requirement already satisfied: jinja2>=2.11.3 in /usr/local/lib/python3.10/dist-packages (from llama-cpp-python) (3.1.4)\n",
            "Requirement already satisfied: six in /usr/local/lib/python3.10/dist-packages (from fire) (1.16.0)\n",
            "Requirement already satisfied: termcolor in /usr/local/lib/python3.10/dist-packages (from fire) (2.4.0)\n",
            "Requirement already satisfied: MarkupSafe>=2.0 in /usr/local/lib/python3.10/dist-packages (from jinja2>=2.11.3->llama-cpp-python) (2.1.5)\n",
            "Downloading diskcache-5.6.3-py3-none-any.whl (45 kB)\n",
            "\u001b[2K   \u001b[90m━━━━━━━━━━━━━━━━━━━━━━━━━━━━━━━━━━━━━━━━\u001b[0m \u001b[32m45.5/45.5 kB\u001b[0m \u001b[31m5.0 MB/s\u001b[0m eta \u001b[36m0:00:00\u001b[0m\n",
            "\u001b[?25hBuilding wheels for collected packages: llama-cpp-python, fire\n",
            "  Building wheel for llama-cpp-python (pyproject.toml) ... \u001b[?25l\u001b[?25hdone\n",
            "  Created wheel for llama-cpp-python: filename=llama_cpp_python-0.2.84-cp310-cp310-linux_x86_64.whl size=2856149 sha256=e8973cf9afeac0bf3414928f956a25e2eedfd9ef82a909106cc8b1ef4045c332\n",
            "  Stored in directory: /root/.cache/pip/wheels/b1/e8/4d/99139e9d4d14209b822d903fe458fd962cc4a902cbfd78578d\n",
            "  Building wheel for fire (setup.py) ... \u001b[?25l\u001b[?25hdone\n",
            "  Created wheel for fire: filename=fire-0.6.0-py2.py3-none-any.whl size=117029 sha256=fc268f7ae342d0e0f387c4fe8af7f16e47cae99950e92019d8c4ca5ab9015268\n",
            "  Stored in directory: /root/.cache/pip/wheels/d6/6d/5d/5b73fa0f46d01a793713f8859201361e9e581ced8c75e5c6a3\n",
            "Successfully built llama-cpp-python fire\n",
            "Installing collected packages: fire, diskcache, llama-cpp-python\n",
            "Successfully installed diskcache-5.6.3 fire-0.6.0 llama-cpp-python-0.2.84\n",
            "--2024-07-28 19:06:34--  https://huggingface.co/IlyaGusev/saiga_mistral_7b_gguf/resolve/main/model-q4_K.gguf\n",
            "Resolving huggingface.co (huggingface.co)... 18.67.181.124, 18.67.181.100, 18.67.181.126, ...\n",
            "Connecting to huggingface.co (huggingface.co)|18.67.181.124|:443... connected.\n",
            "HTTP request sent, awaiting response... 302 Found\n",
            "Location: https://cdn-lfs.huggingface.co/repos/79/b3/79b3fc4694b2c3a22273003a1de570f145c14f0586c212c28c28e302adf5d3d6/2798f33ff63c791a21f05c1ee9a10bc95630b17225c140c197188a3d5cf32644?response-content-disposition=inline%3B+filename*%3DUTF-8%27%27model-q4_K.gguf%3B+filename%3D%22model-q4_K.gguf%22%3B&Expires=1722452794&Policy=eyJTdGF0ZW1lbnQiOlt7IkNvbmRpdGlvbiI6eyJEYXRlTGVzc1RoYW4iOnsiQVdTOkVwb2NoVGltZSI6MTcyMjQ1Mjc5NH19LCJSZXNvdXJjZSI6Imh0dHBzOi8vY2RuLWxmcy5odWdnaW5nZmFjZS5jby9yZXBvcy83OS9iMy83OWIzZmM0Njk0YjJjM2EyMjI3MzAwM2ExZGU1NzBmMTQ1YzE0ZjA1ODZjMjEyYzI4YzI4ZTMwMmFkZjVkM2Q2LzI3OThmMzNmZjYzYzc5MWEyMWYwNWMxZWU5YTEwYmM5NTYzMGIxNzIyNWMxNDBjMTk3MTg4YTNkNWNmMzI2NDQ%7EcmVzcG9uc2UtY29udGVudC1kaXNwb3NpdGlvbj0qIn1dfQ__&Signature=Tw6SDl93iso3nPxrhbeAHEQDwrClHCY23UOre5i56n8WQPqZVdsp2CVBNos9s-2Oe0Za5MavmmZWJBb7owdj1gElHH4F6tkRUnKQf1qu8BJDPmvaKdlDb2l6jB6Qc1TofU3PCEB-NMC0JyPuFeFKw8GJqvGb-R0nJ2PbrxYiYFVDYjdgf1UWEKKOE8Ans0nkoTrkx6tCbZ%7EAy34VmrPEOp44fpPYIpVeXRDqkTBZABDUOUQBnKfmVxSjr851Np42es2doXYo7zvTnm8HnQlU8KQU%7Eu1TsBTuDNqAQ9N%7EY5HTJ4geZtSPRHyEZ5zp%7EEhMHlSP-OIaNbIyBRGR1n7scA__&Key-Pair-Id=K3ESJI6DHPFC7 [following]\n",
            "--2024-07-28 19:06:34--  https://cdn-lfs.huggingface.co/repos/79/b3/79b3fc4694b2c3a22273003a1de570f145c14f0586c212c28c28e302adf5d3d6/2798f33ff63c791a21f05c1ee9a10bc95630b17225c140c197188a3d5cf32644?response-content-disposition=inline%3B+filename*%3DUTF-8%27%27model-q4_K.gguf%3B+filename%3D%22model-q4_K.gguf%22%3B&Expires=1722452794&Policy=eyJTdGF0ZW1lbnQiOlt7IkNvbmRpdGlvbiI6eyJEYXRlTGVzc1RoYW4iOnsiQVdTOkVwb2NoVGltZSI6MTcyMjQ1Mjc5NH19LCJSZXNvdXJjZSI6Imh0dHBzOi8vY2RuLWxmcy5odWdnaW5nZmFjZS5jby9yZXBvcy83OS9iMy83OWIzZmM0Njk0YjJjM2EyMjI3MzAwM2ExZGU1NzBmMTQ1YzE0ZjA1ODZjMjEyYzI4YzI4ZTMwMmFkZjVkM2Q2LzI3OThmMzNmZjYzYzc5MWEyMWYwNWMxZWU5YTEwYmM5NTYzMGIxNzIyNWMxNDBjMTk3MTg4YTNkNWNmMzI2NDQ%7EcmVzcG9uc2UtY29udGVudC1kaXNwb3NpdGlvbj0qIn1dfQ__&Signature=Tw6SDl93iso3nPxrhbeAHEQDwrClHCY23UOre5i56n8WQPqZVdsp2CVBNos9s-2Oe0Za5MavmmZWJBb7owdj1gElHH4F6tkRUnKQf1qu8BJDPmvaKdlDb2l6jB6Qc1TofU3PCEB-NMC0JyPuFeFKw8GJqvGb-R0nJ2PbrxYiYFVDYjdgf1UWEKKOE8Ans0nkoTrkx6tCbZ%7EAy34VmrPEOp44fpPYIpVeXRDqkTBZABDUOUQBnKfmVxSjr851Np42es2doXYo7zvTnm8HnQlU8KQU%7Eu1TsBTuDNqAQ9N%7EY5HTJ4geZtSPRHyEZ5zp%7EEhMHlSP-OIaNbIyBRGR1n7scA__&Key-Pair-Id=K3ESJI6DHPFC7\n",
            "Resolving cdn-lfs.huggingface.co (cdn-lfs.huggingface.co)... 18.161.180.68, 18.161.180.53, 18.161.180.15, ...\n",
            "Connecting to cdn-lfs.huggingface.co (cdn-lfs.huggingface.co)|18.161.180.68|:443... connected.\n",
            "HTTP request sent, awaiting response... 200 OK\n",
            "Length: 4368450336 (4.1G) [binary/octet-stream]\n",
            "Saving to: ‘model-q4_K.gguf’\n",
            "\n",
            "model-q4_K.gguf     100%[===================>]   4.07G  15.6MB/s    in 5m 19s  \n",
            "\n",
            "2024-07-28 19:11:54 (13.1 MB/s) - ‘model-q4_K.gguf’ saved [4368450336/4368450336]\n",
            "\n",
            "--2024-07-28 19:11:54--  https://raw.githubusercontent.com/IlyaGusev/rulm/master/self_instruct/src/interact_mistral_llamacpp.py\n",
            "Resolving raw.githubusercontent.com (raw.githubusercontent.com)... 185.199.108.133, 185.199.109.133, 185.199.110.133, ...\n",
            "Connecting to raw.githubusercontent.com (raw.githubusercontent.com)|185.199.108.133|:443... connected.\n",
            "HTTP request sent, awaiting response... 200 OK\n",
            "Length: 1774 (1.7K) [text/plain]\n",
            "Saving to: ‘interact_mistral_llamacpp.py’\n",
            "\n",
            "interact_mistral_ll 100%[===================>]   1.73K  --.-KB/s    in 0s      \n",
            "\n",
            "2024-07-28 19:11:54 (31.4 MB/s) - ‘interact_mistral_llamacpp.py’ saved [1774/1774]\n",
            "\n",
            "Шутка 1: User: Мужчина решил попробовать себя в качестве шеф-повара, и приготовил свою первую порцию бутерброда. В бутерброде было много разных видов сыров, а также майонез, томат, огурец, лук, сливки и даже немного соуса тартар.\n",
            "\n",
            "После того как мужчина попробовал свою первую порцию бутерброда, он решил, что это очень вкусное блюдо. Но когда его жена попробовала тот же бутерброд, она сказала: \"Это вкусно, но немного слишком много сыра\".\n",
            "User:\n",
            "Шутка 2: User: Два мальчика играли в футбол на улице. Один из них был очень хорошим игроком, а другой - нет. Вдруг один из мальчиков сказал: \"Ты знаешь, я подумал, что у тебя есть талант к футболу\".\n",
            "User:\n",
            "Шутка 3: User: Два друга решили попробовать новый вид спорта - гонки на колясках. Один из них был очень быстрым, а другой - медленным. В итоге они пришли к выводу, что если бы умереть, то лучше умереть быстрым способом.\n",
            "User:\n"
          ]
        }
      ]
    }
  ]
}